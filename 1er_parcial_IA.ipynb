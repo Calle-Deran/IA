{
  "nbformat": 4,
  "nbformat_minor": 0,
  "metadata": {
    "colab": {
      "provenance": [],
      "gpuType": "T4"
    },
    "kernelspec": {
      "name": "python3",
      "display_name": "Python 3"
    },
    "language_info": {
      "name": "python"
    },
    "accelerator": "GPU"
  },
  "cells": [
    {
      "cell_type": "markdown",
      "source": [
        "DATASET #96 DE LA LISTA\n",
        "\n",
        "NOMBRE: CALLE CHOQUE DERAN ZAHID\n",
        "\n",
        "MATERIA: INTELIGENCIA ARTIFICIAL 1\n",
        "\n",
        "GRUPO DE LABORATORIO:2"
      ],
      "metadata": {
        "id": "CPoRJzZRTHSX"
      }
    },
    {
      "cell_type": "code",
      "execution_count": 130,
      "metadata": {
        "id": "KJTomOo6Jnrn"
      },
      "outputs": [],
      "source": [
        "# utilizado para manejos de directorios y rutas\n",
        "import os\n",
        "\n",
        "# Computacion vectorial y cientifica para python\n",
        "import numpy as np\n",
        "\n",
        "# Librerias para graficación (trazado de gráficos)\n",
        "from matplotlib import pyplot\n",
        "from mpl_toolkits.mplot3d import Axes3D  # Necesario para graficar superficies 3D\n",
        "\n",
        "# llama a matplotlib a embeber graficas dentro de los cuadernillos\n",
        "%matplotlib inline"
      ]
    },
    {
      "cell_type": "code",
      "source": [
        "import pandas as pd\n",
        "from sklearn.preprocessing import LabelEncoder\n",
        "from datetime import datetime"
      ],
      "metadata": {
        "id": "PefkiuCkOfnD"
      },
      "execution_count": 131,
      "outputs": []
    },
    {
      "cell_type": "code",
      "source": [
        "#Carga de dataset\n",
        "data = pd.read_csv('/content/Model_creditoPersonal.csv')"
      ],
      "metadata": {
        "id": "gDlo-5QSOkFA"
      },
      "execution_count": 132,
      "outputs": []
    },
    {
      "cell_type": "code",
      "source": [
        "print(data)"
      ],
      "metadata": {
        "colab": {
          "base_uri": "https://localhost:8080/"
        },
        "id": "EItfQ91KPVV4",
        "outputId": "da16e435-f369-473d-8889-9d037fe4110a"
      },
      "execution_count": 133,
      "outputs": [
        {
          "output_type": "stream",
          "name": "stdout",
          "text": [
            "        ID  Age  Experience  Income  ZIP Code  Family  CCAvg  Education  \\\n",
            "0        1   25           1      49     91107       4    1.6          1   \n",
            "1        2   45          19      34     90089       3    1.5          1   \n",
            "2        3   39          15      11     94720       1    1.0          1   \n",
            "3        4   35           9     100     94112       1    2.7          2   \n",
            "4        5   35           8      45     91330       4    1.0          2   \n",
            "...    ...  ...         ...     ...       ...     ...    ...        ...   \n",
            "4995  4996   29           3      40     92697       1    1.9          3   \n",
            "4996  4997   30           4      15     92037       4    0.4          1   \n",
            "4997  4998   63          39      24     93023       2    0.3          3   \n",
            "4998  4999   65          40      49     90034       3    0.5          2   \n",
            "4999  5000   28           4      83     92612       3    0.8          1   \n",
            "\n",
            "      Mortgage  Personal Loan  Securities Account  CD Account  Online  \\\n",
            "0            0              0                   1           0       0   \n",
            "1            0              0                   1           0       0   \n",
            "2            0              0                   0           0       0   \n",
            "3            0              0                   0           0       0   \n",
            "4            0              0                   0           0       0   \n",
            "...        ...            ...                 ...         ...     ...   \n",
            "4995         0              0                   0           0       1   \n",
            "4996        85              0                   0           0       1   \n",
            "4997         0              0                   0           0       0   \n",
            "4998         0              0                   0           0       1   \n",
            "4999         0              0                   0           0       1   \n",
            "\n",
            "      CreditCard  \n",
            "0              0  \n",
            "1              0  \n",
            "2              0  \n",
            "3              0  \n",
            "4              1  \n",
            "...          ...  \n",
            "4995           0  \n",
            "4996           0  \n",
            "4997           0  \n",
            "4998           0  \n",
            "4999           1  \n",
            "\n",
            "[5000 rows x 14 columns]\n"
          ]
        }
      ]
    },
    {
      "cell_type": "code",
      "source": [
        "data.info()"
      ],
      "metadata": {
        "colab": {
          "base_uri": "https://localhost:8080/"
        },
        "id": "RYZOJcRVP0vb",
        "outputId": "7b86cc6a-e8a1-4922-840b-13ba9ba238a2"
      },
      "execution_count": 134,
      "outputs": [
        {
          "output_type": "stream",
          "name": "stdout",
          "text": [
            "<class 'pandas.core.frame.DataFrame'>\n",
            "RangeIndex: 5000 entries, 0 to 4999\n",
            "Data columns (total 14 columns):\n",
            " #   Column              Non-Null Count  Dtype  \n",
            "---  ------              --------------  -----  \n",
            " 0   ID                  5000 non-null   int64  \n",
            " 1   Age                 5000 non-null   int64  \n",
            " 2   Experience          5000 non-null   int64  \n",
            " 3   Income              5000 non-null   int64  \n",
            " 4   ZIP Code            5000 non-null   int64  \n",
            " 5   Family              5000 non-null   int64  \n",
            " 6   CCAvg               5000 non-null   float64\n",
            " 7   Education           5000 non-null   int64  \n",
            " 8   Mortgage            5000 non-null   int64  \n",
            " 9   Personal Loan       5000 non-null   int64  \n",
            " 10  Securities Account  5000 non-null   int64  \n",
            " 11  CD Account          5000 non-null   int64  \n",
            " 12  Online              5000 non-null   int64  \n",
            " 13  CreditCard          5000 non-null   int64  \n",
            "dtypes: float64(1), int64(13)\n",
            "memory usage: 547.0 KB\n"
          ]
        }
      ]
    },
    {
      "cell_type": "code",
      "source": [
        "#variables categoricas\n",
        "columnas_categoricas = data.select_dtypes(include=['object']).columns"
      ],
      "metadata": {
        "id": "YSIJ8AmAVawF"
      },
      "execution_count": 135,
      "outputs": []
    },
    {
      "cell_type": "code",
      "source": [
        "# Lectura de Datos\n",
        "X = data.iloc[:, :12]\n",
        "y = data.iloc[:, 12]\n",
        "m = y.size"
      ],
      "metadata": {
        "id": "v4xD7K5nQZhf"
      },
      "execution_count": 136,
      "outputs": []
    },
    {
      "cell_type": "code",
      "source": [
        "print(X)\n",
        "print('*'*25)\n",
        "print(y)"
      ],
      "metadata": {
        "colab": {
          "base_uri": "https://localhost:8080/"
        },
        "id": "sJ4uTM3_Qcn9",
        "outputId": "1db2a9b0-b204-4d79-b4a2-d8f7324f5756"
      },
      "execution_count": 137,
      "outputs": [
        {
          "output_type": "stream",
          "name": "stdout",
          "text": [
            "        ID  Age  Experience  Income  ZIP Code  Family  CCAvg  Education  \\\n",
            "0        1   25           1      49     91107       4    1.6          1   \n",
            "1        2   45          19      34     90089       3    1.5          1   \n",
            "2        3   39          15      11     94720       1    1.0          1   \n",
            "3        4   35           9     100     94112       1    2.7          2   \n",
            "4        5   35           8      45     91330       4    1.0          2   \n",
            "...    ...  ...         ...     ...       ...     ...    ...        ...   \n",
            "4995  4996   29           3      40     92697       1    1.9          3   \n",
            "4996  4997   30           4      15     92037       4    0.4          1   \n",
            "4997  4998   63          39      24     93023       2    0.3          3   \n",
            "4998  4999   65          40      49     90034       3    0.5          2   \n",
            "4999  5000   28           4      83     92612       3    0.8          1   \n",
            "\n",
            "      Mortgage  Personal Loan  Securities Account  CD Account  \n",
            "0            0              0                   1           0  \n",
            "1            0              0                   1           0  \n",
            "2            0              0                   0           0  \n",
            "3            0              0                   0           0  \n",
            "4            0              0                   0           0  \n",
            "...        ...            ...                 ...         ...  \n",
            "4995         0              0                   0           0  \n",
            "4996        85              0                   0           0  \n",
            "4997         0              0                   0           0  \n",
            "4998         0              0                   0           0  \n",
            "4999         0              0                   0           0  \n",
            "\n",
            "[5000 rows x 12 columns]\n",
            "*************************\n",
            "0       0\n",
            "1       0\n",
            "2       0\n",
            "3       0\n",
            "4       0\n",
            "       ..\n",
            "4995    1\n",
            "4996    1\n",
            "4997    0\n",
            "4998    1\n",
            "4999    1\n",
            "Name: Online, Length: 5000, dtype: int64\n"
          ]
        }
      ]
    },
    {
      "cell_type": "code",
      "source": [
        "# Normaliza entre -0.5 y 0.5 (revisar) porque se dan valores negativos y postivos\n",
        "def  featureNormalize(X):\n",
        "    X_norm = X.copy()\n",
        "    mu = np.zeros(X.shape[1])\n",
        "    sigma = np.zeros(X.shape[1])\n",
        "\n",
        "    mu = np.mean(X, axis = 0)\n",
        "    sigma = np.std(X, axis = 0)\n",
        "    X_norm = (X - mu) / sigma\n",
        "\n",
        "    return X_norm, mu, sigma"
      ],
      "metadata": {
        "id": "-zvEuOIxQjjk"
      },
      "execution_count": 138,
      "outputs": []
    },
    {
      "cell_type": "code",
      "source": [
        "# llama featureNormalize con los datos cargados\n",
        "X_norm, mu, sigma = featureNormalize(X)\n",
        "\n",
        "print(X)\n",
        "print('Media calculada:', mu)\n",
        "print('Desviación estandar calculada:', sigma)\n",
        "print(X_norm)"
      ],
      "metadata": {
        "colab": {
          "base_uri": "https://localhost:8080/"
        },
        "id": "Y0wJMzOGQ40h",
        "outputId": "2fae92da-4112-467c-d8ef-79932cf9a219"
      },
      "execution_count": 139,
      "outputs": [
        {
          "output_type": "stream",
          "name": "stdout",
          "text": [
            "        ID  Age  Experience  Income  ZIP Code  Family  CCAvg  Education  \\\n",
            "0        1   25           1      49     91107       4    1.6          1   \n",
            "1        2   45          19      34     90089       3    1.5          1   \n",
            "2        3   39          15      11     94720       1    1.0          1   \n",
            "3        4   35           9     100     94112       1    2.7          2   \n",
            "4        5   35           8      45     91330       4    1.0          2   \n",
            "...    ...  ...         ...     ...       ...     ...    ...        ...   \n",
            "4995  4996   29           3      40     92697       1    1.9          3   \n",
            "4996  4997   30           4      15     92037       4    0.4          1   \n",
            "4997  4998   63          39      24     93023       2    0.3          3   \n",
            "4998  4999   65          40      49     90034       3    0.5          2   \n",
            "4999  5000   28           4      83     92612       3    0.8          1   \n",
            "\n",
            "      Mortgage  Personal Loan  Securities Account  CD Account  \n",
            "0            0              0                   1           0  \n",
            "1            0              0                   1           0  \n",
            "2            0              0                   0           0  \n",
            "3            0              0                   0           0  \n",
            "4            0              0                   0           0  \n",
            "...        ...            ...                 ...         ...  \n",
            "4995         0              0                   0           0  \n",
            "4996        85              0                   0           0  \n",
            "4997         0              0                   0           0  \n",
            "4998         0              0                   0           0  \n",
            "4999         0              0                   0           0  \n",
            "\n",
            "[5000 rows x 12 columns]\n",
            "Media calculada: ID                     2500.500000\n",
            "Age                      45.338400\n",
            "Experience               20.104600\n",
            "Income                   73.774200\n",
            "ZIP Code              93152.503000\n",
            "Family                    2.396400\n",
            "CCAvg                     1.937938\n",
            "Education                 1.881000\n",
            "Mortgage                 56.498800\n",
            "Personal Loan             0.096000\n",
            "Securities Account        0.104400\n",
            "CD Account                0.060400\n",
            "dtype: float64\n",
            "Desviación estandar calculada: ID                    1443.375644\n",
            "Age                     11.462019\n",
            "Experience              11.466807\n",
            "Income                  46.029126\n",
            "ZIP Code              2121.640002\n",
            "Family                   1.147548\n",
            "CCAvg                    1.747484\n",
            "Education                0.839785\n",
            "Mortgage               101.703630\n",
            "Personal Loan            0.294591\n",
            "Securities Account       0.305779\n",
            "CD Account               0.238226\n",
            "dtype: float64\n",
            "            ID       Age  Experience    Income  ZIP Code    Family     CCAvg  \\\n",
            "0    -1.731704 -1.774417   -1.666078 -0.538229 -0.964114  1.397414 -0.193385   \n",
            "1    -1.731012 -0.029524   -0.096330 -0.864109 -1.443932  0.525991 -0.250611   \n",
            "2    -1.730319 -0.552992   -0.445163 -1.363793  0.738814 -1.216855 -0.536736   \n",
            "3    -1.729626 -0.901970   -0.968413  0.569765  0.452243 -1.216855  0.436091   \n",
            "4    -1.728933 -0.901970   -1.055621 -0.625130 -0.859007  1.397414 -0.536736   \n",
            "...        ...       ...         ...       ...       ...       ...       ...   \n",
            "4995  1.728933 -1.425438   -1.491662 -0.733757 -0.214694 -1.216855 -0.021710   \n",
            "4996  1.729626 -1.338194   -1.404454 -1.276892 -0.525774  1.397414 -0.880087   \n",
            "4997  1.730319  1.540880    1.647835 -1.081363 -0.061039 -0.345432 -0.937312   \n",
            "4998  1.731012  1.715370    1.735043 -0.538229 -1.469855  0.525991 -0.822862   \n",
            "4999  1.731704 -1.512683   -1.404454  0.200434 -0.254757  0.525991 -0.651186   \n",
            "\n",
            "      Education  Mortgage  Personal Loan  Securities Account  CD Account  \n",
            "0     -1.049078 -0.555524      -0.325875            2.928915    -0.25354  \n",
            "1     -1.049078 -0.555524      -0.325875            2.928915    -0.25354  \n",
            "2     -1.049078 -0.555524      -0.325875           -0.341423    -0.25354  \n",
            "3      0.141703 -0.555524      -0.325875           -0.341423    -0.25354  \n",
            "4      0.141703 -0.555524      -0.325875           -0.341423    -0.25354  \n",
            "...         ...       ...            ...                 ...         ...  \n",
            "4995   1.332484 -0.555524      -0.325875           -0.341423    -0.25354  \n",
            "4996  -1.049078  0.280238      -0.325875           -0.341423    -0.25354  \n",
            "4997   1.332484 -0.555524      -0.325875           -0.341423    -0.25354  \n",
            "4998   0.141703 -0.555524      -0.325875           -0.341423    -0.25354  \n",
            "4999  -1.049078 -0.555524      -0.325875           -0.341423    -0.25354  \n",
            "\n",
            "[5000 rows x 12 columns]\n"
          ]
        }
      ]
    },
    {
      "cell_type": "code",
      "source": [
        "# Añade el termino de interseccion a X\n",
        "# (Columna de unos para X0)\n",
        "X = np.concatenate([np.ones((m, 1)), X_norm], axis=1)"
      ],
      "metadata": {
        "id": "HzTxqTthQ9gv"
      },
      "execution_count": 140,
      "outputs": []
    },
    {
      "cell_type": "code",
      "source": [
        "def computeCostMulti(X, y, theta):\n",
        "    # Inicializa algunos valores utiles\n",
        "    m = y.shape[0] # numero de ejemplos de entrenamiento\n",
        "\n",
        "    J = 0\n",
        "\n",
        "    h = np.dot(X, theta)\n",
        "\n",
        "    J = (1/(2 * m)) * np.sum(np.square(np.dot(X, theta) - y))\n",
        "\n",
        "    return J"
      ],
      "metadata": {
        "id": "A4cO8hjWRGkN"
      },
      "execution_count": 141,
      "outputs": []
    },
    {
      "cell_type": "code",
      "source": [
        "def gradientDescentMulti(X, y, theta, alpha, num_iters):\n",
        "\n",
        "    # Inicializa algunos valores\n",
        "    m = y.shape[0] # numero de ejemplos de entrenamiento\n",
        "\n",
        "    # realiza una copia de theta, el cual será acutalizada por el descenso por el gradiente\n",
        "    theta = theta.copy()\n",
        "\n",
        "    J_history = []\n",
        "\n",
        "    for i in range(num_iters):\n",
        "        theta = theta - (alpha / m) * (np.dot(X, theta) - y).dot(X)\n",
        "        J_history.append(computeCostMulti(X, y, theta))\n",
        "\n",
        "    return theta, J_history"
      ],
      "metadata": {
        "id": "hfsT925pRK4L"
      },
      "execution_count": 142,
      "outputs": []
    },
    {
      "cell_type": "code",
      "source": [
        "alpha = 0.001\n",
        "num_iters = 4000\n",
        "\n",
        "# inicializa theta y ejecuta el descenso por el gradiente\n",
        "theta = np.zeros(13)\n",
        "theta, J_history = gradientDescentMulti(X, y, theta, alpha, num_iters)\n",
        "\n",
        "# Grafica la convergencia del costo\n",
        "pyplot.plot(np.arange(len(J_history)), J_history, lw=2)\n",
        "pyplot.xlabel('Numero de iteraciones')\n",
        "pyplot.ylabel('Costo J')\n",
        "\n",
        "# Muestra los resultados del descenso por el gradiente\n",
        "print('theta calculado por el descenso por el gradiente: {:s}'.format(str(theta)))\n",
        "\n",
        "# Estimar el precio para un smart watch con distintas caracteristicas\n",
        "X_array = [1, 2, 130, 32, 1, 17, 1.48, 29, 4, 12, 0, 1, 1]\n",
        "X_array[1:13] = (X_array[1:13] - mu) / sigma\n",
        "price = np.dot(X_array, theta)   # Se debe cambiar esto\n",
        "\n",
        "print('El valor predecido es (usando el descenso por el gradiente): {:.4f}'.format(price))"
      ],
      "metadata": {
        "colab": {
          "base_uri": "https://localhost:8080/",
          "height": 538
        },
        "id": "wKUsFU3FRnQQ",
        "outputId": "ceabd19c-7dca-4149-d298-91dd5e50166c"
      },
      "execution_count": 143,
      "outputs": [
        {
          "output_type": "stream",
          "name": "stdout",
          "text": [
            "theta calculado por el descenso por el gradiente: [ 0.58589108 -0.00135805  0.00353031  0.00264503  0.00807332  0.00666746\n",
            "  0.00567134 -0.01002378 -0.00685821 -0.00862436 -0.02217771 -0.02109985\n",
            "  0.0962249 ]\n",
            "El valor predecido es (usando el descenso por el gradiente): 0.4633\n"
          ]
        },
        {
          "output_type": "display_data",
          "data": {
            "text/plain": [
              "<Figure size 640x480 with 1 Axes>"
            ],
            "image/png": "[encoded data removed]"
          },
          "metadata": {}
        }
      ]
    },
    {
      "cell_type": "code",
      "source": [
        "X_array = [1, 2, 130, 32, 1, 17, 1.48, 29, 4, 12, 0, 1, 1]\n",
        "X_array[1:13] = (X_array[1:13] - mu) / sigma"
      ],
      "metadata": {
        "id": "Ui1mR0CNUYbS"
      },
      "execution_count": 144,
      "outputs": []
    },
    {
      "cell_type": "code",
      "source": [
        "X_array[1:13]"
      ],
      "metadata": {
        "colab": {
          "base_uri": "https://localhost:8080/"
        },
        "id": "yVoDCECfUeFy",
        "outputId": "3993c1aa-233f-4a29-d521-d0bc9b041d4c"
      },
      "execution_count": 145,
      "outputs": [
        {
          "output_type": "execute_result",
          "data": {
            "text/plain": [
              "[-1.7310116117045686,\n",
              " 7.386272706776497,\n",
              " 1.037376854603611,\n",
              " -1.5810467582181424,\n",
              " -43.89788226743621,\n",
              " -0.7985720698349901,\n",
              " 15.486298483399972,\n",
              " 2.5232646081789545,\n",
              " -0.4375340379363242,\n",
              " -0.3258752679561411,\n",
              " 2.9289151679935492,\n",
              " 3.9441464717640082]"
            ]
          },
          "metadata": {},
          "execution_count": 145
        }
      ]
    },
    {
      "cell_type": "code",
      "source": [
        "#Carga de dataset\n",
        "data = pd.read_csv('/content/Model_creditoPersonal.csv')"
      ],
      "metadata": {
        "id": "XqY-kuAMW_fV"
      },
      "execution_count": 146,
      "outputs": []
    },
    {
      "cell_type": "code",
      "source": [],
      "metadata": {
        "id": "2QTCgpcMWZqa"
      },
      "execution_count": 146,
      "outputs": []
    },
    {
      "cell_type": "code",
      "source": [
        "# Generar un nuevo dataset con la columna movida\n",
        "nuevo_dataset = data.copy()\n",
        "\n",
        "# Guardar el nuevo DataFrame en un archivo CSV\n",
        "nuevo_dataset.to_csv('Model_creditoPersonal.csv', index=False)\n",
        "\n",
        "print(\"Archivo 'Model_creditoPersonal_new.csv' creado exitosamente.\")"
      ],
      "metadata": {
        "colab": {
          "base_uri": "https://localhost:8080/"
        },
        "id": "BC4Vj85hXWnX",
        "outputId": "126efb12-9813-4db2-b0f9-8a8f53d18020"
      },
      "execution_count": 155,
      "outputs": [
        {
          "output_type": "stream",
          "name": "stdout",
          "text": [
            "Archivo 'Model_creditoPersonal.csv' creado exitosamente.\n"
          ]
        }
      ]
    },
    {
      "cell_type": "code",
      "source": [
        "#Carga de dataset\n",
        "data = pd.read_csv('/content/Model_creditoPersonal.csv')"
      ],
      "metadata": {
        "id": "ilPx0vZYX4Us"
      },
      "execution_count": 148,
      "outputs": []
    },
    {
      "cell_type": "code",
      "source": [
        "print(data)"
      ],
      "metadata": {
        "colab": {
          "base_uri": "https://localhost:8080/"
        },
        "id": "dCcEGQGLX7XM",
        "outputId": "210b428f-5ba3-41ef-fa75-7b4e8865a216"
      },
      "execution_count": 149,
      "outputs": [
        {
          "output_type": "stream",
          "name": "stdout",
          "text": [
            "        ID  Age  Experience  Income  ZIP Code  Family  CCAvg  Education  \\\n",
            "0        1   25           1      49     91107       4    1.6          1   \n",
            "1        2   45          19      34     90089       3    1.5          1   \n",
            "2        3   39          15      11     94720       1    1.0          1   \n",
            "3        4   35           9     100     94112       1    2.7          2   \n",
            "4        5   35           8      45     91330       4    1.0          2   \n",
            "...    ...  ...         ...     ...       ...     ...    ...        ...   \n",
            "4995  4996   29           3      40     92697       1    1.9          3   \n",
            "4996  4997   30           4      15     92037       4    0.4          1   \n",
            "4997  4998   63          39      24     93023       2    0.3          3   \n",
            "4998  4999   65          40      49     90034       3    0.5          2   \n",
            "4999  5000   28           4      83     92612       3    0.8          1   \n",
            "\n",
            "      Mortgage  Personal Loan  Securities Account  CD Account  Online  \\\n",
            "0            0              0                   1           0       0   \n",
            "1            0              0                   1           0       0   \n",
            "2            0              0                   0           0       0   \n",
            "3            0              0                   0           0       0   \n",
            "4            0              0                   0           0       0   \n",
            "...        ...            ...                 ...         ...     ...   \n",
            "4995         0              0                   0           0       1   \n",
            "4996        85              0                   0           0       1   \n",
            "4997         0              0                   0           0       0   \n",
            "4998         0              0                   0           0       1   \n",
            "4999         0              0                   0           0       1   \n",
            "\n",
            "      CreditCard  \n",
            "0              0  \n",
            "1              0  \n",
            "2              0  \n",
            "3              0  \n",
            "4              1  \n",
            "...          ...  \n",
            "4995           0  \n",
            "4996           0  \n",
            "4997           0  \n",
            "4998           0  \n",
            "4999           1  \n",
            "\n",
            "[5000 rows x 14 columns]\n"
          ]
        }
      ]
    },
    {
      "cell_type": "code",
      "source": [
        "# Lectura de Datos\n",
        "X = data.iloc[:, :12]\n",
        "y = data.iloc[:, 12]\n",
        "m = y.size"
      ],
      "metadata": {
        "id": "Rrc0F8TxX9fI"
      },
      "execution_count": 150,
      "outputs": []
    },
    {
      "cell_type": "code",
      "source": [
        "print(X)\n",
        "print('*'*25)\n",
        "print(y)"
      ],
      "metadata": {
        "colab": {
          "base_uri": "https://localhost:8080/"
        },
        "id": "LZBJGq1WX_by",
        "outputId": "ea5cfedb-62c0-4bcd-826b-48b121eaa66f"
      },
      "execution_count": 151,
      "outputs": [
        {
          "output_type": "stream",
          "name": "stdout",
          "text": [
            "        ID  Age  Experience  Income  ZIP Code  Family  CCAvg  Education  \\\n",
            "0        1   25           1      49     91107       4    1.6          1   \n",
            "1        2   45          19      34     90089       3    1.5          1   \n",
            "2        3   39          15      11     94720       1    1.0          1   \n",
            "3        4   35           9     100     94112       1    2.7          2   \n",
            "4        5   35           8      45     91330       4    1.0          2   \n",
            "...    ...  ...         ...     ...       ...     ...    ...        ...   \n",
            "4995  4996   29           3      40     92697       1    1.9          3   \n",
            "4996  4997   30           4      15     92037       4    0.4          1   \n",
            "4997  4998   63          39      24     93023       2    0.3          3   \n",
            "4998  4999   65          40      49     90034       3    0.5          2   \n",
            "4999  5000   28           4      83     92612       3    0.8          1   \n",
            "\n",
            "      Mortgage  Personal Loan  Securities Account  CD Account  \n",
            "0            0              0                   1           0  \n",
            "1            0              0                   1           0  \n",
            "2            0              0                   0           0  \n",
            "3            0              0                   0           0  \n",
            "4            0              0                   0           0  \n",
            "...        ...            ...                 ...         ...  \n",
            "4995         0              0                   0           0  \n",
            "4996        85              0                   0           0  \n",
            "4997         0              0                   0           0  \n",
            "4998         0              0                   0           0  \n",
            "4999         0              0                   0           0  \n",
            "\n",
            "[5000 rows x 12 columns]\n",
            "*************************\n",
            "0       0\n",
            "1       0\n",
            "2       0\n",
            "3       0\n",
            "4       0\n",
            "       ..\n",
            "4995    1\n",
            "4996    1\n",
            "4997    0\n",
            "4998    1\n",
            "4999    1\n",
            "Name: Online, Length: 5000, dtype: int64\n"
          ]
        }
      ]
    },
    {
      "cell_type": "code",
      "source": [
        "X = np.concatenate([np.ones((m, 1)), X], axis=1)"
      ],
      "metadata": {
        "id": "wU6t7_HfYDOV"
      },
      "execution_count": 152,
      "outputs": []
    }
  ]
}